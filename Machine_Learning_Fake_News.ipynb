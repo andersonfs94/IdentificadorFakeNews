import numpy as np
import pandas as pd
from sklearn.model_selection import train_test_split
from sklearn.feature_extraction.text import TfidfVectorizer
from sklearn.linear_model import PassiveAggressiveClassifier
from sklearn.metrics import accuracy_score, confusion_matrix
import matplotlib.pyplot as plt

dados_true = pd.read_csv('/content/drive/MyDrive/Dataset/True.csv')
dados_fake = pd.read_csv('/content/drive/MyDrive/Dataset/Fake.csv')

dados_true.describe()

dados_fake.describe()

#Código para unir as duas planilhas em uma só e adicionar uma nova coluna chamada de label (rotulo), sabendo assim qual das notícias são falsas e quais são verdadeiras
dados_true['label'] = ['True']*len(dados_true)
dados_fake['label'] = ['Fake']*len(dados_fake)
dados = dados_true.append(dados_fake).sample(frac=1).reset_index().drop(columns=['index']) #Reinicia o índice

dados.head()

dados.shape

rotulo = dados.label
rotulo.head()

#Dividindo os dados em treino e teste. Sendo a variável x o texto dos dados e a variável y o rotulo com as informações de verdadeiro/falso.
#Como é um aprendizado supervisionado, é necessário ter a resposta nos dados.
x_train,x_test,y_train,y_test=train_test_split(dados['text'], rotulo, test_size=0.3, random_state=7)

tfidf_vectorizer=TfidfVectorizer(stop_words='english', max_df=0.7)

tfidf_train=tfidf_vectorizer.fit_transform(x_train) 
tfidf_test=tfidf_vectorizer.transform(x_test)

pac=PassiveAggressiveClassifier(max_iter=50)
pac.fit(tfidf_train,y_train)

y_pred=pac.predict(tfidf_test)
score=accuracy_score(y_test,y_pred)
print(f'Precisão do Passive Aggressive Classifier: {round(score*100,2)}%')

cf_matrix = confusion_matrix(y_test,y_pred, labels=['Fake','True'])

cf_matrix

#Matriz de Erro
import seaborn as sns
ax = sns.heatmap(cf_matrix/np.sum(cf_matrix), annot=True, fmt='.2%', cmap='BuGn')

ax.set_title('Matriz de erro com rótulos\n\n')
ax.set_xlabel('\nValores esperados')
ax.set_ylabel('Valores reais ')

ax.xaxis.set_ticklabels(['Falsa','Real'])
ax.yaxis.set_ticklabels(['Falsa','Real'])

plt.show()
